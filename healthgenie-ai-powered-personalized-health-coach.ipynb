{
 "cells": [
  {
   "cell_type": "markdown",
   "id": "57d7212a",
   "metadata": {
    "papermill": {
     "duration": 0.004907,
     "end_time": "2025-04-13T17:44:11.713478",
     "exception": false,
     "start_time": "2025-04-13T17:44:11.708571",
     "status": "completed"
    },
    "tags": []
   },
   "source": [
    "***HealthGenie – AI-Powered Personalized Health Coach***"
   ]
  },
  {
   "cell_type": "markdown",
   "id": "133922f6",
   "metadata": {
    "papermill": {
     "duration": 0.003879,
     "end_time": "2025-04-13T17:44:11.721686",
     "exception": false,
     "start_time": "2025-04-13T17:44:11.717807",
     "status": "completed"
    },
    "tags": []
   },
   "source": [
    "**Introduction**\n",
    "In today's fast-paced world, personalized health guidance is often inaccessible or prohibitively expensive. Generic fitness apps and diet plans fail to account for individual health conditions, goals, and preferences. HealthGenie addresses this gap by leveraging generative AI to create truly personalized health recommendations.\n",
    "\n",
    "This project demonstrates how generative AI can transform healthcare by providing tailored diet plans, exercise routines, and health tips based on a user's specific health profile and medical conditions. By analyzing health reports and user input, HealthGenie delivers scientifically-grounded recommendations that adapt to individual needs."
   ]
  },
  {
   "cell_type": "markdown",
   "id": "feb31366",
   "metadata": {
    "papermill": {
     "duration": 0.003808,
     "end_time": "2025-04-13T17:44:11.729689",
     "exception": false,
     "start_time": "2025-04-13T17:44:11.725881",
     "status": "completed"
    },
    "tags": []
   },
   "source": [
    "**Problem Statement**\n",
    "Most fitness and health applications provide generic advice that fails to account for:\n",
    "\n",
    "Individual medical conditions (e.g., diabetes, hypertension)\n",
    "\n",
    "Personal goals (weight loss, muscle gain)\n",
    "\n",
    "Dietary preferences and restrictions\n",
    "\n",
    "Current fitness levels and limitations\n",
    "\n",
    "This one-size-fits-all approach often leads to poor adherence, suboptimal results, and potential health risks for users with specific medical conditions."
   ]
  },
  {
   "cell_type": "markdown",
   "id": "55ebb632",
   "metadata": {
    "papermill": {
     "duration": 0.0039,
     "end_time": "2025-04-13T17:44:11.737712",
     "exception": false,
     "start_time": "2025-04-13T17:44:11.733812",
     "status": "completed"
    },
    "tags": []
   },
   "source": [
    "**Solution: HealthGenie**\n",
    "HealthGenie is an AI health companion that:\n",
    "\n",
    "Analyzes medical reports and health data\n",
    "\n",
    "Generates personalized diet and exercise plans\n",
    "\n",
    "Provides condition-specific health recommendations\n",
    "\n",
    "Answers health-related questions with medically-grounded information\n"
   ]
  },
  {
   "cell_type": "code",
   "execution_count": 1,
   "id": "978686a3",
   "metadata": {
    "execution": {
     "iopub.execute_input": "2025-04-13T17:44:11.747163Z",
     "iopub.status.busy": "2025-04-13T17:44:11.746846Z",
     "iopub.status.idle": "2025-04-13T17:44:16.618583Z",
     "shell.execute_reply": "2025-04-13T17:44:16.617407Z"
    },
    "papermill": {
     "duration": 4.879289,
     "end_time": "2025-04-13T17:44:16.621087",
     "exception": false,
     "start_time": "2025-04-13T17:44:11.741798",
     "status": "completed"
    },
    "tags": []
   },
   "outputs": [
    {
     "name": "stdout",
     "output_type": "stream",
     "text": [
      "Requirement already satisfied: google-generativeai in /usr/local/lib/python3.11/dist-packages (0.8.4)\r\n",
      "Requirement already satisfied: pypdf in /usr/local/lib/python3.11/dist-packages (5.4.0)\r\n",
      "Requirement already satisfied: pillow in /usr/local/lib/python3.11/dist-packages (11.1.0)\r\n",
      "Requirement already satisfied: google-ai-generativelanguage==0.6.15 in /usr/local/lib/python3.11/dist-packages (from google-generativeai) (0.6.15)\r\n",
      "Requirement already satisfied: google-api-core in /usr/local/lib/python3.11/dist-packages (from google-generativeai) (1.34.1)\r\n",
      "Requirement already satisfied: google-api-python-client in /usr/local/lib/python3.11/dist-packages (from google-generativeai) (2.160.0)\r\n",
      "Requirement already satisfied: google-auth>=2.15.0 in /usr/local/lib/python3.11/dist-packages (from google-generativeai) (2.27.0)\r\n",
      "Requirement already satisfied: protobuf in /usr/local/lib/python3.11/dist-packages (from google-generativeai) (3.20.3)\r\n",
      "Requirement already satisfied: pydantic in /usr/local/lib/python3.11/dist-packages (from google-generativeai) (2.11.3)\r\n",
      "Requirement already satisfied: tqdm in /usr/local/lib/python3.11/dist-packages (from google-generativeai) (4.67.1)\r\n",
      "Requirement already satisfied: typing-extensions in /usr/local/lib/python3.11/dist-packages (from google-generativeai) (4.13.1)\r\n",
      "Requirement already satisfied: proto-plus<2.0.0dev,>=1.22.3 in /usr/local/lib/python3.11/dist-packages (from google-ai-generativelanguage==0.6.15->google-generativeai) (1.26.0)\r\n",
      "Requirement already satisfied: googleapis-common-protos<2.0dev,>=1.56.2 in /usr/local/lib/python3.11/dist-packages (from google-api-core->google-generativeai) (1.67.0)\r\n",
      "Requirement already satisfied: requests<3.0.0dev,>=2.18.0 in /usr/local/lib/python3.11/dist-packages (from google-api-core->google-generativeai) (2.32.3)\r\n",
      "Requirement already satisfied: cachetools<6.0,>=2.0.0 in /usr/local/lib/python3.11/dist-packages (from google-auth>=2.15.0->google-generativeai) (5.5.2)\r\n",
      "Requirement already satisfied: pyasn1-modules>=0.2.1 in /usr/local/lib/python3.11/dist-packages (from google-auth>=2.15.0->google-generativeai) (0.4.1)\r\n",
      "Requirement already satisfied: rsa<5,>=3.1.4 in /usr/local/lib/python3.11/dist-packages (from google-auth>=2.15.0->google-generativeai) (4.9)\r\n",
      "Requirement already satisfied: httplib2<1.dev0,>=0.19.0 in /usr/local/lib/python3.11/dist-packages (from google-api-python-client->google-generativeai) (0.22.0)\r\n",
      "Requirement already satisfied: google-auth-httplib2<1.0.0,>=0.2.0 in /usr/local/lib/python3.11/dist-packages (from google-api-python-client->google-generativeai) (0.2.0)\r\n",
      "Requirement already satisfied: uritemplate<5,>=3.0.1 in /usr/local/lib/python3.11/dist-packages (from google-api-python-client->google-generativeai) (4.1.1)\r\n",
      "Requirement already satisfied: annotated-types>=0.6.0 in /usr/local/lib/python3.11/dist-packages (from pydantic->google-generativeai) (0.7.0)\r\n",
      "Requirement already satisfied: pydantic-core==2.33.1 in /usr/local/lib/python3.11/dist-packages (from pydantic->google-generativeai) (2.33.1)\r\n",
      "Requirement already satisfied: typing-inspection>=0.4.0 in /usr/local/lib/python3.11/dist-packages (from pydantic->google-generativeai) (0.4.0)\r\n",
      "Requirement already satisfied: grpcio<2.0dev,>=1.33.2 in /usr/local/lib/python3.11/dist-packages (from google-api-core[grpc]!=2.0.*,!=2.1.*,!=2.10.*,!=2.2.*,!=2.3.*,!=2.4.*,!=2.5.*,!=2.6.*,!=2.7.*,!=2.8.*,!=2.9.*,<3.0.0dev,>=1.34.1->google-ai-generativelanguage==0.6.15->google-generativeai) (1.70.0)\r\n",
      "Requirement already satisfied: grpcio-status<2.0dev,>=1.33.2 in /usr/local/lib/python3.11/dist-packages (from google-api-core[grpc]!=2.0.*,!=2.1.*,!=2.10.*,!=2.2.*,!=2.3.*,!=2.4.*,!=2.5.*,!=2.6.*,!=2.7.*,!=2.8.*,!=2.9.*,<3.0.0dev,>=1.34.1->google-ai-generativelanguage==0.6.15->google-generativeai) (1.48.2)\r\n",
      "Requirement already satisfied: pyparsing!=3.0.0,!=3.0.1,!=3.0.2,!=3.0.3,<4,>=2.4.2 in /usr/local/lib/python3.11/dist-packages (from httplib2<1.dev0,>=0.19.0->google-api-python-client->google-generativeai) (3.2.1)\r\n",
      "Requirement already satisfied: pyasn1<0.7.0,>=0.4.6 in /usr/local/lib/python3.11/dist-packages (from pyasn1-modules>=0.2.1->google-auth>=2.15.0->google-generativeai) (0.6.1)\r\n",
      "Requirement already satisfied: charset-normalizer<4,>=2 in /usr/local/lib/python3.11/dist-packages (from requests<3.0.0dev,>=2.18.0->google-api-core->google-generativeai) (3.4.1)\r\n",
      "Requirement already satisfied: idna<4,>=2.5 in /usr/local/lib/python3.11/dist-packages (from requests<3.0.0dev,>=2.18.0->google-api-core->google-generativeai) (3.10)\r\n",
      "Requirement already satisfied: urllib3<3,>=1.21.1 in /usr/local/lib/python3.11/dist-packages (from requests<3.0.0dev,>=2.18.0->google-api-core->google-generativeai) (2.3.0)\r\n",
      "Requirement already satisfied: certifi>=2017.4.17 in /usr/local/lib/python3.11/dist-packages (from requests<3.0.0dev,>=2.18.0->google-api-core->google-generativeai) (2025.1.31)\r\n"
     ]
    }
   ],
   "source": [
    "!pip install google-generativeai pypdf pillow"
   ]
  },
  {
   "cell_type": "code",
   "execution_count": 2,
   "id": "448cc19c",
   "metadata": {
    "execution": {
     "iopub.execute_input": "2025-04-13T17:44:16.632246Z",
     "iopub.status.busy": "2025-04-13T17:44:16.631511Z",
     "iopub.status.idle": "2025-04-13T17:44:16.839129Z",
     "shell.execute_reply": "2025-04-13T17:44:16.838369Z"
    },
    "papermill": {
     "duration": 0.215081,
     "end_time": "2025-04-13T17:44:16.840964",
     "exception": false,
     "start_time": "2025-04-13T17:44:16.625883",
     "status": "completed"
    },
    "tags": []
   },
   "outputs": [],
   "source": [
    "from kaggle_secrets import UserSecretsClient\n",
    "user_secrets = UserSecretsClient()\n",
    "secret_value_0 = user_secrets.get_secret(\"GOOGLE_API_KEY\")"
   ]
  },
  {
   "cell_type": "code",
   "execution_count": 3,
   "id": "a1583ad6",
   "metadata": {
    "execution": {
     "iopub.execute_input": "2025-04-13T17:44:16.851567Z",
     "iopub.status.busy": "2025-04-13T17:44:16.850885Z",
     "iopub.status.idle": "2025-04-13T17:44:21.859395Z",
     "shell.execute_reply": "2025-04-13T17:44:21.858146Z"
    },
    "papermill": {
     "duration": 5.015478,
     "end_time": "2025-04-13T17:44:21.861093",
     "exception": false,
     "start_time": "2025-04-13T17:44:16.845615",
     "status": "completed"
    },
    "tags": []
   },
   "outputs": [
    {
     "name": "stdout",
     "output_type": "stream",
     "text": [
      "Available Gemini models:\n",
      "models/gemini-1.0-pro-vision-latest\n",
      "models/gemini-pro-vision\n",
      "models/gemini-1.5-pro-latest\n",
      "models/gemini-1.5-pro-001\n",
      "models/gemini-1.5-pro-002\n",
      "models/gemini-1.5-pro\n",
      "models/gemini-1.5-flash-latest\n",
      "models/gemini-1.5-flash-001\n",
      "models/gemini-1.5-flash-001-tuning\n",
      "models/gemini-1.5-flash\n",
      "models/gemini-1.5-flash-002\n",
      "models/gemini-1.5-flash-8b\n",
      "models/gemini-1.5-flash-8b-001\n",
      "models/gemini-1.5-flash-8b-latest\n",
      "models/gemini-1.5-flash-8b-exp-0827\n",
      "models/gemini-1.5-flash-8b-exp-0924\n",
      "models/gemini-2.5-pro-exp-03-25\n",
      "models/gemini-2.5-pro-preview-03-25\n",
      "models/gemini-2.0-flash-exp\n",
      "models/gemini-2.0-flash\n",
      "models/gemini-2.0-flash-001\n",
      "models/gemini-2.0-flash-exp-image-generation\n",
      "models/gemini-2.0-flash-lite-001\n",
      "models/gemini-2.0-flash-lite\n",
      "models/gemini-2.0-flash-lite-preview-02-05\n",
      "models/gemini-2.0-flash-lite-preview\n",
      "models/gemini-2.0-pro-exp\n",
      "models/gemini-2.0-pro-exp-02-05\n",
      "models/gemini-exp-1206\n",
      "models/gemini-2.0-flash-thinking-exp-01-21\n",
      "models/gemini-2.0-flash-thinking-exp\n",
      "models/gemini-2.0-flash-thinking-exp-1219\n",
      "models/learnlm-1.5-pro-experimental\n",
      "models/gemma-3-1b-it\n",
      "models/gemma-3-4b-it\n",
      "models/gemma-3-12b-it\n",
      "models/gemma-3-27b-it\n"
     ]
    }
   ],
   "source": [
    "# HealthGenie: AI Health Companion\n",
    "# Import necessary libraries\n",
    "import os\n",
    "import google.generativeai as genai\n",
    "import pypdf\n",
    "import numpy as np\n",
    "import pandas as pd\n",
    "import matplotlib.pyplot as plt\n",
    "from kaggle_secrets import UserSecretsClient\n",
    "from IPython.display import Markdown, display\n",
    "import PIL.Image\n",
    "from io import BytesIO\n",
    "\n",
    "# ========== SETUP GEMINI API ========== #\n",
    "# Get API key from Kaggle Secrets\n",
    "user_secrets = UserSecretsClient()\n",
    "api_key = user_secrets.get_secret(\"GOOGLE_API_KEY\")  \n",
    "genai.configure(api_key=api_key)\n",
    "\n",
    "# Print available models to verify setup\n",
    "print(\"Available Gemini models:\")\n",
    "for m in genai.list_models():\n",
    "    if 'generateContent' in m.supported_generation_methods:\n",
    "        print(m.name)\n",
    "\n",
    "# Set the model name based on available models\n",
    "MODEL_NAME = \"models/gemini-2.0-flash\"  # Updated model name\n",
    "VISION_MODEL_NAME = \"models/gemini-1.5-pro\"  # Updated vision model name\n"
   ]
  },
  {
   "cell_type": "markdown",
   "id": "d06d9cd7",
   "metadata": {
    "papermill": {
     "duration": 0.005367,
     "end_time": "2025-04-13T17:44:21.871348",
     "exception": false,
     "start_time": "2025-04-13T17:44:21.865981",
     "status": "completed"
    },
    "tags": []
   },
   "source": [
    "**Generative AI Capability #1:** Document Understanding\n",
    "One of HealthGenie's core capabilities is extracting and interpreting information from medical reports. This demonstrates the document understanding capability of generative AI models."
   ]
  },
  {
   "cell_type": "code",
   "execution_count": 4,
   "id": "6e05a2a1",
   "metadata": {
    "execution": {
     "iopub.execute_input": "2025-04-13T17:44:21.882230Z",
     "iopub.status.busy": "2025-04-13T17:44:21.881695Z",
     "iopub.status.idle": "2025-04-13T17:44:21.888386Z",
     "shell.execute_reply": "2025-04-13T17:44:21.887391Z"
    },
    "papermill": {
     "duration": 0.013933,
     "end_time": "2025-04-13T17:44:21.889950",
     "exception": false,
     "start_time": "2025-04-13T17:44:21.876017",
     "status": "completed"
    },
    "tags": []
   },
   "outputs": [],
   "source": [
    "# ========== DOCUMENT PROCESSING ========== #\n",
    "def process_health_report(file_path):\n",
    "    \"\"\"Extract text from PDF health reports or text files\"\"\"\n",
    "    text = \"\"\n",
    "    try:\n",
    "        with open(file_path, \"rb\") as f:\n",
    "            pdf = pypdf.PdfReader(f)\n",
    "            for page in pdf.pages:\n",
    "                text += page.extract_text()\n",
    "    except Exception as e:\n",
    "        # If it's not a PDF, try reading as text file\n",
    "        try:\n",
    "            with open(file_path, \"r\") as f:\n",
    "                text = f.read()\n",
    "        except Exception as e2:\n",
    "            text = f\"Error processing file: {str(e2)}\"\n",
    "    return text"
   ]
  },
  {
   "cell_type": "markdown",
   "id": "e1680e3a",
   "metadata": {
    "papermill": {
     "duration": 0.004449,
     "end_time": "2025-04-13T17:44:21.899599",
     "exception": false,
     "start_time": "2025-04-13T17:44:21.895150",
     "status": "completed"
    },
    "tags": []
   },
   "source": [
    "This function demonstrates document understanding by:\n",
    "1.Accepting PDF health reports as input.\n",
    "\n",
    "2.Extracting text content from multiple pages.\n",
    "\n",
    "3.Handling different file formats with graceful error recovery.\n",
    "\n",
    "In a real-world application, this could be expanded to handle various medical document formats and extract structured information like lab values, diagnoses, and medications."
   ]
  },
  {
   "cell_type": "markdown",
   "id": "68606ec1",
   "metadata": {
    "papermill": {
     "duration": 0.004298,
     "end_time": "2025-04-13T17:44:21.908618",
     "exception": false,
     "start_time": "2025-04-13T17:44:21.904320",
     "status": "completed"
    },
    "tags": []
   },
   "source": [
    "**Generative AI Capability #2:** Retrieval-Augmented Generation (RAG)\n",
    "To ensure our health recommendations are scientifically accurate, we implement RAG to ground responses in verified medical guidelines."
   ]
  },
  {
   "cell_type": "code",
   "execution_count": 5,
   "id": "d1de17f7",
   "metadata": {
    "execution": {
     "iopub.execute_input": "2025-04-13T17:44:21.919717Z",
     "iopub.status.busy": "2025-04-13T17:44:21.918940Z",
     "iopub.status.idle": "2025-04-13T17:44:23.840291Z",
     "shell.execute_reply": "2025-04-13T17:44:23.839366Z"
    },
    "papermill": {
     "duration": 1.928973,
     "end_time": "2025-04-13T17:44:23.842003",
     "exception": false,
     "start_time": "2025-04-13T17:44:21.913030",
     "status": "completed"
    },
    "tags": []
   },
   "outputs": [],
   "source": [
    "# ========== EMBEDDINGS & RAG SETUP ========== #\n",
    "def create_embeddings(texts):\n",
    "    \"\"\"Create embeddings for a list of texts\"\"\"\n",
    "    embeddings = []\n",
    "    for text in texts:\n",
    "        result = genai.embed_content(\n",
    "            model=\"models/embedding-001\",\n",
    "            content=text,\n",
    "            task_type=\"retrieval_document\"\n",
    "        )\n",
    "        embeddings.append(result['embedding'])\n",
    "    return embeddings\n",
    "\n",
    "# Sample medical guidelines for RAG\n",
    "medical_guidelines = [\n",
    "    \"The American Diabetes Association recommends 150 minutes per week of moderate-intensity aerobic physical activity for diabetics.\",\n",
    "    \"Low glycemic index foods are preferred for diabetes management to prevent blood sugar spikes.\",\n",
    "    \"Resistance training twice per week can improve insulin sensitivity in type 2 diabetes patients.\",\n",
    "    \"For weight loss, a caloric deficit of 500-750 calories per day is recommended for gradual, sustainable results.\",\n",
    "    \"High-protein diets (1.2-1.6g/kg body weight) support muscle growth during resistance training programs.\"\n",
    "]\n",
    "\n",
    "# Create embeddings for guidelines\n",
    "guideline_embeddings = create_embeddings(medical_guidelines)\n",
    "\n",
    "def find_relevant_guidelines(query, top_k=2):\n",
    "    \"\"\"Find most relevant guidelines using embedding similarity\"\"\"\n",
    "    query_embedding = genai.embed_content(\n",
    "        model=\"models/embedding-001\",\n",
    "        content=query,\n",
    "        task_type=\"retrieval_query\"\n",
    "    )\n",
    "    \n",
    "    # Calculate cosine similarity (simplified approach)\n",
    "    similarities = []\n",
    "    for guideline_emb in guideline_embeddings:\n",
    "        # Dot product for similarity\n",
    "        similarity = sum(a*b for a, b in zip(query_embedding['embedding'], guideline_emb))\n",
    "        similarities.append(similarity)\n",
    "    \n",
    "    # Get indices of top k similar guidelines\n",
    "    top_indices = sorted(range(len(similarities)), key=lambda i: similarities[i], reverse=True)[:top_k]\n",
    "    \n",
    "    return [medical_guidelines[i] for i in top_indices]\n"
   ]
  },
  {
   "cell_type": "markdown",
   "id": "6ba51bb4",
   "metadata": {
    "papermill": {
     "duration": 0.004499,
     "end_time": "2025-04-13T17:44:23.851349",
     "exception": false,
     "start_time": "2025-04-13T17:44:23.846850",
     "status": "completed"
    },
    "tags": []
   },
   "source": [
    "**The RAG implementation:**\n",
    "\n",
    "Creates vector embeddings for medical guidelines using Gemini's embedding model\n",
    "\n",
    "Computes semantic similarity between user queries and guidelines\n",
    "\n",
    "Retrieves the most relevant guidelines to ground health recommendations\n",
    "\n",
    "Ensures responses are aligned with established medical practices\n",
    "\n",
    "In a production environment, this could be expanded to include thousands of medical guidelines from sources like the American Diabetes Association, American Heart Association, and peer-reviewed medical literature."
   ]
  },
  {
   "cell_type": "markdown",
   "id": "d8145d3b",
   "metadata": {
    "papermill": {
     "duration": 0.004541,
     "end_time": "2025-04-13T17:44:23.860520",
     "exception": false,
     "start_time": "2025-04-13T17:44:23.855979",
     "status": "completed"
    },
    "tags": []
   },
   "source": [
    "**Generative AI Capability #3: Structured Output**\n",
    "HealthGenie generates structured health plans with clearly defined sections for diet, exercise, and health tips."
   ]
  },
  {
   "cell_type": "code",
   "execution_count": 6,
   "id": "ae55f9a9",
   "metadata": {
    "execution": {
     "iopub.execute_input": "2025-04-13T17:44:23.871525Z",
     "iopub.status.busy": "2025-04-13T17:44:23.870822Z",
     "iopub.status.idle": "2025-04-13T17:44:23.876287Z",
     "shell.execute_reply": "2025-04-13T17:44:23.875535Z"
    },
    "papermill": {
     "duration": 0.012544,
     "end_time": "2025-04-13T17:44:23.877695",
     "exception": false,
     "start_time": "2025-04-13T17:44:23.865151",
     "status": "completed"
    },
    "tags": []
   },
   "outputs": [],
   "source": [
    "# ========== HEALTH PLAN GENERATION ========== #\n",
    "def generate_health_plan(patient_data):\n",
    "    \"\"\"Generate personalized health plan based on patient data\"\"\"\n",
    "    # Get relevant guidelines using RAG\n",
    "    query = f\"Health recommendations for {patient_data.get('Condition', 'general health')}\"\n",
    "    relevant_guidelines = find_relevant_guidelines(query)\n",
    "    \n",
    "    # Create prompt with structured output request\n",
    "    prompt = f\"\"\"\n",
    "    Based on the following patient data and medical guidelines, create a comprehensive 7-day health plan.\n",
    "    \n",
    "    PATIENT DATA:\n",
    "    {patient_data}\n",
    "    \n",
    "    RELEVANT MEDICAL GUIDELINES:\n",
    "    {relevant_guidelines}\n",
    "    \n",
    "    Please provide a structured response with the following sections:\n",
    "    1. DIET PLAN: Include meal suggestions for 7 days with nutritional information\n",
    "    2. EXERCISE ROUTINE: Recommend appropriate exercises with duration and frequency\n",
    "    3. HEALTH TIPS: Provide 5 specific tips relevant to the patient's condition\n",
    "    \n",
    "    Format the response in a clear, organized manner with sections and bullet points.\n",
    "    \"\"\"\n",
    "    \n",
    "    # Generate content using updated model name\n",
    "    model = genai.GenerativeModel(MODEL_NAME)\n",
    "    response = model.generate_content(prompt)\n",
    "    \n",
    "    return response.text\n"
   ]
  },
  {
   "cell_type": "markdown",
   "id": "188d465b",
   "metadata": {
    "papermill": {
     "duration": 0.004952,
     "end_time": "2025-04-13T17:44:23.887476",
     "exception": false,
     "start_time": "2025-04-13T17:44:23.882524",
     "status": "completed"
    },
    "tags": []
   },
   "source": [
    "This function demonstrates structured output by:\n",
    "\n",
    "Specifying the exact format for the health plan (diet, exercise, tips)\n",
    "\n",
    "Requesting specific details like nutritional information and exercise duration\n",
    "\n",
    "Ensuring the output is formatted with sections and bullet points for readability\n",
    "\n",
    "The structured output makes the health plan actionable and easy to follow, improving the user experience."
   ]
  },
  {
   "cell_type": "markdown",
   "id": "93aa4597",
   "metadata": {
    "papermill": {
     "duration": 0.004436,
     "end_time": "2025-04-13T17:44:23.896512",
     "exception": false,
     "start_time": "2025-04-13T17:44:23.892076",
     "status": "completed"
    },
    "tags": []
   },
   "source": [
    "**Generative AI Capability #4: Agents**\n",
    "HealthGenie implements an agent architecture to maintain context across multiple interactions and provide personalized responses."
   ]
  },
  {
   "cell_type": "code",
   "execution_count": 7,
   "id": "46363848",
   "metadata": {
    "execution": {
     "iopub.execute_input": "2025-04-13T17:44:23.907326Z",
     "iopub.status.busy": "2025-04-13T17:44:23.906681Z",
     "iopub.status.idle": "2025-04-13T17:44:23.914506Z",
     "shell.execute_reply": "2025-04-13T17:44:23.913806Z"
    },
    "papermill": {
     "duration": 0.01469,
     "end_time": "2025-04-13T17:44:23.915750",
     "exception": false,
     "start_time": "2025-04-13T17:44:23.901060",
     "status": "completed"
    },
    "tags": []
   },
   "outputs": [],
   "source": [
    "# ========== INTERACTIVE CHAT AGENT ========== #\n",
    "class HealthGenieAgent:\n",
    "    def __init__(self):\n",
    "        self.model = genai.GenerativeModel(MODEL_NAME)\n",
    "        self.patient_data = {}\n",
    "        self.history = []\n",
    "        \n",
    "    def initialize_patient(self, patient_info):\n",
    "        \"\"\"Set initial patient data\"\"\"\n",
    "        self.patient_data = patient_info\n",
    "        system_prompt = f\"\"\"\n",
    "        You are HealthGenie, an AI health assistant specialized in providing personalized health advice.\n",
    "        Your goal is to help users with their health goals like muscle gain, weight loss, or managing conditions.\n",
    "        \n",
    "        Current patient information:\n",
    "        {patient_info}\n",
    "        \n",
    "        Always be supportive, accurate, and ground your advice in medical science.\n",
    "        \"\"\"\n",
    "        \n",
    "        # Instead of using chat, we'll use direct generation with history tracking\n",
    "        response = self.model.generate_content(system_prompt)\n",
    "        self.history.append({\"role\": \"system\", \"content\": system_prompt})\n",
    "        self.history.append({\"role\": \"model\", \"content\": response.text})\n",
    "        \n",
    "        return \"HealthGenie initialized with patient data!\"\n",
    "    \n",
    "    def ask(self, query):\n",
    "        \"\"\"Send a question to the health agent\"\"\"\n",
    "        # Construct conversation context from history\n",
    "        context = \"\\n\".join([f\"{msg['role']}: {msg['content']}\" for msg in self.history])\n",
    "        \n",
    "        full_prompt = f\"{context}\\nuser: {query}\"\n",
    "        response = self.model.generate_content(full_prompt)\n",
    "        \n",
    "        # Update history\n",
    "        self.history.append({\"role\": \"user\", \"content\": query})\n",
    "        self.history.append({\"role\": \"model\", \"content\": response.text})\n",
    "        \n",
    "        return response.text\n",
    "    \n",
    "    def generate_plan(self):\n",
    "        \"\"\"Generate comprehensive health plan\"\"\"\n",
    "        return generate_health_plan(self.patient_data)\n",
    "    \n",
    "    def get_chat_history(self):\n",
    "        \"\"\"Return formatted chat history\"\"\"\n",
    "        history = []\n",
    "        for message in self.history:\n",
    "            history.append(f\"**{message['role']}**: {message['content']}\")\n",
    "        return \"\\n\\n\".join(history)\n"
   ]
  },
  {
   "cell_type": "markdown",
   "id": "49f94403",
   "metadata": {
    "papermill": {
     "duration": 0.004249,
     "end_time": "2025-04-13T17:44:23.924609",
     "exception": false,
     "start_time": "2025-04-13T17:44:23.920360",
     "status": "completed"
    },
    "tags": []
   },
   "source": [
    "The agent implementation:\n",
    "\n",
    "Maintains conversation history to provide context-aware responses\n",
    "\n",
    "Stores patient data to personalize recommendations\n",
    "\n",
    "Provides methods for both structured plan generation and free-form Q&A\n",
    "\n",
    "Simulates a chat-like experience with role-based messaging\n",
    "\n",
    "This agent architecture allows HealthGenie to have meaningful multi-turn conversations with users, answering follow-up questions and providing consistent advice based on the user's health profile."
   ]
  },
  {
   "cell_type": "markdown",
   "id": "e06276fe",
   "metadata": {
    "papermill": {
     "duration": 0.004456,
     "end_time": "2025-04-13T17:44:23.933427",
     "exception": false,
     "start_time": "2025-04-13T17:44:23.928971",
     "status": "completed"
    },
    "tags": []
   },
   "source": [
    "**Demo Setup**\n",
    "Let's create some synthetic data to demonstrate HealthGenie's capabilities:"
   ]
  },
  {
   "cell_type": "code",
   "execution_count": 8,
   "id": "d7ccfb4e",
   "metadata": {
    "execution": {
     "iopub.execute_input": "2025-04-13T17:44:23.944130Z",
     "iopub.status.busy": "2025-04-13T17:44:23.943828Z",
     "iopub.status.idle": "2025-04-13T17:44:23.950044Z",
     "shell.execute_reply": "2025-04-13T17:44:23.949352Z"
    },
    "papermill": {
     "duration": 0.013282,
     "end_time": "2025-04-13T17:44:23.951254",
     "exception": false,
     "start_time": "2025-04-13T17:44:23.937972",
     "status": "completed"
    },
    "tags": []
   },
   "outputs": [],
   "source": [
    "# ========== DEMO WITH SYNTHETIC DATA ========== #\n",
    "# Create sample patient data\n",
    "sample_patients = [\n",
    "    {\n",
    "        \"Name\": \"John Doe\",\n",
    "        \"Age\": 35,\n",
    "        \"Gender\": \"Male\",\n",
    "        \"Height\": \"5'10\\\"\",\n",
    "        \"Weight\": \"190 lbs\",\n",
    "        \"Goal\": \"Muscle gain\",\n",
    "        \"Condition\": \"None\",\n",
    "        \"Allergies\": \"None\",\n",
    "        \"Activity Level\": \"Moderate\"\n",
    "    },\n",
    "    {\n",
    "        \"Name\": \"Jane Smith\",\n",
    "        \"Age\": 42,\n",
    "        \"Gender\": \"Female\",\n",
    "        \"Height\": \"5'5\\\"\",\n",
    "        \"Weight\": \"165 lbs\",\n",
    "        \"Goal\": \"Weight loss\",\n",
    "        \"Condition\": \"Type 2 Diabetes\",\n",
    "        \"Allergies\": \"Peanuts\",\n",
    "        \"Activity Level\": \"Sedentary\"\n",
    "    }\n",
    "]\n",
    "\n",
    "# Create sample health report text\n",
    "sample_report = \"\"\"\n",
    "MEDICAL REPORT\n",
    "Patient: Jane Smith\n",
    "Date: April 10, 2025\n",
    "Lab Results:\n",
    "- Fasting Blood Glucose: 142 mg/dL (High)\n",
    "- HbA1c: 7.3% (High)\n",
    "- Total Cholesterol: 210 mg/dL (Borderline High)\n",
    "- Blood Pressure: 138/88 mmHg (Elevated)\n",
    "\n",
    "Assessment: Patient has Type 2 Diabetes with suboptimal glycemic control.\n",
    "Recommendation: Dietary modification, increased physical activity, and medication adjustment.\n",
    "\"\"\"\n",
    "\n",
    "# Save sample report to file\n",
    "with open(\"sample_report.txt\", \"w\") as f:\n",
    "    f.write(sample_report)\n"
   ]
  },
  {
   "cell_type": "markdown",
   "id": "4d8d7a72",
   "metadata": {
    "papermill": {
     "duration": 0.00457,
     "end_time": "2025-04-13T17:44:23.960673",
     "exception": false,
     "start_time": "2025-04-13T17:44:23.956103",
     "status": "completed"
    },
    "tags": []
   },
   "source": [
    "**HealthGenie Demonstration**\n",
    "Now let's run a comprehensive demonstration of HealthGenie's capabilities:"
   ]
  },
  {
   "cell_type": "code",
   "execution_count": 9,
   "id": "f0b1c111",
   "metadata": {
    "execution": {
     "iopub.execute_input": "2025-04-13T17:44:23.971206Z",
     "iopub.status.busy": "2025-04-13T17:44:23.970903Z",
     "iopub.status.idle": "2025-04-13T17:45:14.882473Z",
     "shell.execute_reply": "2025-04-13T17:45:14.881543Z"
    },
    "papermill": {
     "duration": 50.918943,
     "end_time": "2025-04-13T17:45:14.884216",
     "exception": false,
     "start_time": "2025-04-13T17:44:23.965273",
     "status": "completed"
    },
    "tags": []
   },
   "outputs": [
    {
     "name": "stdout",
     "output_type": "stream",
     "text": [
      "==================================================\n",
      "HEALTHGENIE AI HEALTH COMPANION DEMO\n",
      "==================================================\n",
      "\n",
      "1. INITIALIZING AGENT WITH PATIENT DATA\n",
      "Agent initialized!\n",
      "\n",
      "2. GENERATING PERSONALIZED HEALTH PLAN\n"
     ]
    },
    {
     "data": {
      "text/markdown": [
       "Okay, here's a comprehensive 7-day health plan tailored for Jane Smith, based on her patient data and the provided medical guidelines.\n",
       "\n",
       "**1. DIET PLAN:**\n",
       "\n",
       "This diet plan focuses on portion control, low glycemic index foods, and balanced macronutrients to manage blood sugar levels and promote weight loss. It also avoids peanuts due to her allergy.\n",
       "\n",
       "**Important Considerations:**\n",
       "\n",
       "*   **Calorie Goal:** Aim for 1400-1600 calories per day (consider consulting a registered dietitian for a personalized calorie recommendation).\n",
       "*   **Macronutrient Ratio (approximate):** 40% carbohydrates (primarily complex), 30% protein, 30% healthy fats.\n",
       "*   **Hydration:** Drink at least 8 glasses of water per day.\n",
       "*   **Portion Control:** Use measuring cups and food scales to ensure accurate portion sizes.\n",
       "*   **Read Labels:** Pay attention to serving sizes, carbohydrate content, and added sugars.\n",
       "*   **Timing of food intake:** Breakfast, lunch, and dinner should be eaten every day, and you may have a snack in between.\n",
       "\n",
       "**Meal Suggestions (7 Days):**\n",
       "\n",
       "**(Nutritional information is approximate and may vary based on specific ingredients and preparation methods. Use a food tracking app like MyFitnessPal for precise calculations.)**\n",
       "\n",
       "**Day 1:**\n",
       "\n",
       "*   **Breakfast (Approx. 300 calories):** Oatmeal (1/2 cup dry) with berries (1/2 cup) and a sprinkle of almonds (1/4 oz).\n",
       "*   **Lunch (Approx. 400 calories):**  Large salad with grilled chicken (4 oz), mixed greens, cucumber, tomatoes, bell peppers, and a light vinaigrette dressing (2 tbsp).\n",
       "*   **Dinner (Approx. 500 calories):** Baked salmon (4 oz) with steamed broccoli (1 cup) and quinoa (1/2 cup cooked).\n",
       "*   **Snack (Approx. 100 calories):** Greek yogurt (plain, non-fat, 1/2 cup) with a few blueberries.\n",
       "\n",
       "**Day 2:**\n",
       "\n",
       "*   **Breakfast (Approx. 320 calories):** Whole-wheat toast (2 slices) with avocado (1/4) and a hard-boiled egg.\n",
       "*   **Lunch (Approx. 420 calories):** Leftover Baked salmon (4 oz) with steamed broccoli (1 cup) and quinoa (1/2 cup cooked).\n",
       "*   **Dinner (Approx. 480 calories):** Chicken stir-fry with brown rice (1 cup), mixed vegetables (2 cups), and a low-sodium soy sauce.\n",
       "*   **Snack (Approx. 100 calories):** Apple slices with 2 tbsp of almond butter (check for peanut contamination).\n",
       "\n",
       "**Day 3:**\n",
       "\n",
       "*   **Breakfast (Approx. 310 calories):** Smoothie made with spinach, unsweetened almond milk (1 cup), protein powder (1 scoop), and berries (1/2 cup).\n",
       "*   **Lunch (Approx. 410 calories):** Turkey breast sandwich (4 oz) on whole-wheat bread with lettuce, tomato, and mustard. Side of carrot sticks.\n",
       "*   **Dinner (Approx. 520 calories):** Lentil soup (2 cups) with a side of whole-grain crackers (6).\n",
       "*   **Snack (Approx. 100 calories):** Small handful (1/4 cup) of almonds and walnuts (avoid mixed nuts due to peanut allergy risk).\n",
       "\n",
       "**Day 4:**\n",
       "\n",
       "*   **Breakfast (Approx. 330 calories):** Scrambled eggs (2) with spinach and whole-wheat toast (1 slice).\n",
       "*   **Lunch (Approx. 430 calories):** Large salad with tuna (4 oz, canned in water), mixed greens, cucumber, tomatoes, celery, and a light vinaigrette dressing (2 tbsp).\n",
       "*   **Dinner (Approx. 470 calories):** Baked chicken breast (4 oz) with roasted sweet potatoes (1 cup) and green beans (1 cup).\n",
       "*   **Snack (Approx. 100 calories):** Cottage cheese (1/2 cup, low-fat) with a few slices of peach.\n",
       "\n",
       "**Day 5:**\n",
       "\n",
       "*   **Breakfast (Approx. 300 calories):** Greek yogurt (plain, non-fat, 1 cup) with berries (1/2 cup) and chia seeds (1 tbsp).\n",
       "*   **Lunch (Approx. 400 calories):** Leftover Baked chicken breast (4 oz) with roasted sweet potatoes (1 cup) and green beans (1 cup).\n",
       "*   **Dinner (Approx. 510 calories):** Black bean burgers (2, homemade or store-bought with low sodium) on whole-wheat buns with lettuce and tomato.\n",
       "*   **Snack (Approx. 100 calories):** Hard-boiled egg.\n",
       "\n",
       "**Day 6:**\n",
       "\n",
       "*   **Breakfast (Approx. 320 calories):** Whole-wheat pancakes (2 small) with berries (1/2 cup) and a drizzle of sugar-free syrup.\n",
       "*   **Lunch (Approx. 420 calories):** Salad with chick peas, mixed greens, cucumber, tomatoes, bell peppers, and a light vinaigrette dressing (2 tbsp).\n",
       "*   **Dinner (Approx. 490 calories):** Ground turkey (4 oz) and vegetable chili (1.5 cups) with a dollop of plain Greek yogurt (2 tbsp).\n",
       "*   **Snack (Approx. 100 calories):** Bell pepper strips with hummus (1/4 cup – check label for peanut-free guarantee).\n",
       "\n",
       "**Day 7:**\n",
       "\n",
       "*   **Breakfast (Approx. 310 calories):** Oatmeal (1/2 cup dry) with unsweetened applesauce (1/2 cup) and a sprinkle of cinnamon.\n",
       "*   **Lunch (Approx. 410 calories):** Leftover Ground turkey (4 oz) and vegetable chili (1.5 cups) with a dollop of plain Greek yogurt (2 tbsp).\n",
       "*   **Dinner (Approx. 530 calories):** Lean beef sirloin (4 oz) with steamed asparagus (1 cup) and brown rice (1/2 cup).\n",
       "*   **Snack (Approx. 100 calories):** String cheese (low-fat).\n",
       "\n",
       "**Dietary Notes:**\n",
       "\n",
       "*   **Fiber:** Emphasize high-fiber foods to help regulate blood sugar.\n",
       "*   **Limit Processed Foods:** Avoid sugary drinks, processed snacks, and fast food.\n",
       "*   **Sweeteners:** Use sugar substitutes (e.g., Stevia, erythritol) in moderation.\n",
       "*   **Cooking Methods:** Bake, grill, steam, or broil food instead of frying.\n",
       "*   **Variety:** Include a wide variety of vegetables, fruits, and lean protein sources in your diet.\n",
       "*   **Consult a Dietitian:** A registered dietitian can provide personalized dietary recommendations based on Jane's specific needs and preferences.\n",
       "\n",
       "**2. EXERCISE ROUTINE:**\n",
       "\n",
       "Based on the guidelines and the patient's sedentary activity level, this routine aims to gradually increase activity and improve insulin sensitivity.\n",
       "\n",
       "*   **Aerobic Exercise (Moderate Intensity):** 150 minutes per week, broken down into 30-minute sessions, 5 days a week.\n",
       "*   **Resistance Training:** Twice per week, on non-consecutive days.\n",
       "*   **Flexibility/Stretching:** Daily, for 5-10 minutes.\n",
       "\n",
       "**Detailed Schedule:**\n",
       "\n",
       "*   **Monday:** 30-minute brisk walk.  Light stretching.\n",
       "*   **Tuesday:** Resistance Training (see below). Light stretching.\n",
       "*   **Wednesday:** 30-minute cycling (stationary or outdoors).  Light stretching.\n",
       "*   **Thursday:** Resistance Training (see below). Light stretching.\n",
       "*   **Friday:** 30-minute swimming or water aerobics. Light stretching.\n",
       "*   **Saturday:** 30-minute brisk walk. Light stretching.\n",
       "*   **Sunday:** Rest or Active Recovery (light yoga, gentle stretching).\n",
       "\n",
       "**Resistance Training Routine (Twice per week):**\n",
       "\n",
       "*   **Warm-up (5 minutes):** Light cardio, such as marching in place or arm circles.\n",
       "*   **Exercises:** Perform 2-3 sets of 10-12 repetitions for each exercise. Choose a weight or resistance that is challenging but allows you to maintain proper form.\n",
       "    *   **Squats:** (or Chair squats if needed) – targets legs and glutes.\n",
       "    *   **Push-ups:** (can be done against a wall or on your knees) – targets chest, shoulders, and triceps.\n",
       "    *   **Dumbbell Rows:** (using light dumbbells or resistance bands) – targets back and biceps.\n",
       "    *   **Overhead Press:** (using light dumbbells or resistance bands) – targets shoulders.\n",
       "    *   **Bicep Curls:** (using light dumbbells or resistance bands) – targets biceps.\n",
       "    *   **Triceps Extensions:** (using light dumbbells or resistance bands) – targets triceps.\n",
       "*   **Cool-down (5 minutes):** Stretching major muscle groups.\n",
       "\n",
       "**Important Considerations:**\n",
       "\n",
       "*   **Start Slowly:** Begin with shorter exercise durations and lower intensity, gradually increasing as fitness improves.\n",
       "*   **Listen to Your Body:** Rest when needed and avoid pushing through pain.\n",
       "*   **Consult a Doctor:** Before starting any new exercise program, especially with Type 2 Diabetes, consult with a physician to ensure it is safe and appropriate.\n",
       "*   **Monitor Blood Sugar:** Check blood sugar levels before, during, and after exercise to understand how activity affects your body.  Carry a source of fast-acting carbohydrate (e.g., glucose tablets) in case of hypoglycemia.\n",
       "*   **Proper Form:** Focus on maintaining proper form during exercises to prevent injuries. Consider working with a certified personal trainer to learn correct techniques.\n",
       "*   **Make it Enjoyable:** Choose activities you enjoy to increase adherence.\n",
       "\n",
       "**3. HEALTH TIPS:**\n",
       "\n",
       "Here are 5 specific health tips for Jane Smith, relevant to her condition:\n",
       "\n",
       "*   **Regular Blood Sugar Monitoring:** Consistently check blood sugar levels as recommended by your doctor. Keep a log to track patterns and trends. This helps you understand how food, exercise, and stress impact your glucose levels.\n",
       "*   **Foot Care:**  Diabetes can damage nerves and reduce blood flow to the feet. Inspect your feet daily for any cuts, blisters, or sores.  Wear comfortable, well-fitting shoes.  See a podiatrist regularly for foot exams.\n",
       "*   **Stress Management:**  Stress can elevate blood sugar levels. Practice relaxation techniques such as deep breathing, meditation, yoga, or spending time in nature.\n",
       "*   **Medication Adherence:** Take prescribed medications exactly as directed by your doctor. Do not skip doses or change the dosage without consulting your physician.\n",
       "*   **Smoking Cessation:** If you smoke, quit. Smoking increases the risk of complications from diabetes, including heart disease, nerve damage, and kidney disease.\n",
       "*   **Educate Yourself:** Understanding your condition can help you better manage it. Attend diabetes education classes or workshops, and read reliable sources of information about diabetes.\n",
       "*   **Get Enough Sleep**: Aim for 7-8 hours of quality sleep each night. Poor sleep can worsen insulin resistance and impact blood sugar control. Establish a regular sleep schedule and create a relaxing bedtime routine.\n",
       "\n",
       "This health plan is designed as a starting point. It's crucial for Jane Smith to consult with her healthcare team (doctor, registered dietitian, certified diabetes educator) to personalize the plan further based on her individual needs, preferences, and progress.\n"
      ],
      "text/plain": [
       "<IPython.core.display.Markdown object>"
      ]
     },
     "metadata": {},
     "output_type": "display_data"
    },
    {
     "name": "stdout",
     "output_type": "stream",
     "text": [
      "\n",
      "3. INTERACTIVE Q&A WITH HEALTHGENIE\n",
      "\n",
      "Q: What exercises are safe for someone with my condition?\n"
     ]
    },
    {
     "data": {
      "text/markdown": [
       "Okay, Jane, that's an excellent question. Safety is paramount when it comes to exercise and managing Type 2 Diabetes. It's great that you're thinking about this.\n",
       "\n",
       "Here are some types of exercises that are generally considered safe and beneficial for someone with Type 2 Diabetes and a sedentary starting point, along with important considerations:\n",
       "\n",
       "**1. Low-Impact Aerobic Exercise:**\n",
       "\n",
       "*   **Walking:** This is a fantastic starting point. It's easy to do, requires no special equipment, and can be easily incorporated into your daily routine. Start with short walks (10-15 minutes) and gradually increase the duration and intensity. Focus on maintaining a comfortable pace where you can still hold a conversation.\n",
       "*   **Swimming:** Water exercise is gentle on the joints, making it a great option if you have any joint pain or mobility issues. The buoyancy of water supports your weight, reducing stress on your knees, hips, and ankles. Start with a gentle swim or water aerobics class.\n",
       "*   **Cycling (stationary or outdoor):** Cycling is another low-impact option that can help improve cardiovascular health and lower blood sugar levels. Start with short rides on a flat surface or a stationary bike with low resistance.\n",
       "*   **Elliptical Trainer:** This machine provides a low-impact, full-body workout that can be adjusted to your fitness level.\n",
       "\n",
       "**Important Considerations for Aerobic Exercise:**\n",
       "\n",
       "*   **Blood Sugar Monitoring:** *Always* check your blood sugar before, during (if exercising for longer than 30 minutes), and after exercise, especially when you are first starting out or making changes to your routine. This will help you understand how your body responds to different types of activity and prevent hypoglycemia (low blood sugar). Have a quick source of carbohydrates (like glucose tablets or a small juice box) readily available in case your blood sugar drops too low.\n",
       "*   **Foot Care:** Diabetes can sometimes lead to nerve damage in the feet (neuropathy). Inspect your feet daily for any blisters, cuts, or sores, and wear comfortable, supportive shoes.\n",
       "*   **Hydration:** Drink plenty of water before, during, and after exercise to stay hydrated.\n",
       "*   **Listen to Your Body:** Pay attention to any pain or discomfort you experience. Stop if you feel dizzy, lightheaded, or short of breath.\n",
       "\n",
       "**2. Strength Training (Resistance Training):**\n",
       "\n",
       "*   **Bodyweight Exercises:** These exercises use your own body weight as resistance and are a great way to start building strength. Examples include:\n",
       "    *   **Chair squats:** Stand up and sit down from a chair repeatedly.\n",
       "    *   **Wall push-ups:** Stand facing a wall and do push-ups against the wall.\n",
       "    *   **Arm raises:** Lift your arms out to the side or in front of you.\n",
       "    *   **Leg raises:** Lift your legs while sitting or lying down.\n",
       "*   **Resistance Bands:** These are inexpensive and portable and can be used to add resistance to various exercises.\n",
       "*   **Light Weights:** Start with very light weights (1-2 lbs) and gradually increase the weight as you get stronger. Focus on proper form to avoid injury.\n",
       "\n",
       "**Important Considerations for Strength Training:**\n",
       "\n",
       "*   **Proper Form:** Learn the correct form for each exercise to prevent injuries. Consider working with a certified personal trainer, at least initially, to learn proper technique.\n",
       "*   **Breathing:** Breathe properly during strength training exercises. Exhale during the exertion phase (e.g., when you're pushing up during a push-up) and inhale during the recovery phase.\n",
       "*   **Avoid Holding Your Breath:** Holding your breath can increase blood pressure.\n",
       "*   **Start Slowly:** Begin with one set of 10-12 repetitions for each exercise and gradually increase the number of sets and repetitions as you get stronger.\n",
       "\n",
       "**3. Flexibility and Balance Exercises:**\n",
       "\n",
       "*   **Stretching:** Gentle stretching can improve flexibility and range of motion. Hold each stretch for 20-30 seconds. Focus on stretching major muscle groups, such as your legs, arms, and back.\n",
       "*   **Yoga and Tai Chi:** These practices combine gentle movements, stretching, and relaxation techniques. They can help improve balance, flexibility, and stress levels.\n",
       "*   **Balance Exercises:** Simple balance exercises, such as standing on one foot for a few seconds at a time, can help improve stability and prevent falls.\n",
       "\n",
       "**General Recommendations:**\n",
       "\n",
       "*   **Warm-up:** Always warm up before exercise with 5-10 minutes of light cardio and stretching.\n",
       "*   **Cool-down:** Cool down after exercise with 5-10 minutes of stretching.\n",
       "*   **Consistency is Key:** Aim for at least 30 minutes of moderate-intensity exercise most days of the week. Even short bursts of activity throughout the day can be beneficial.\n",
       "*   **Listen to Your Body:** Rest when you need to, and don't push yourself too hard, especially when you're first starting out.\n",
       "*   **Medical ID:** Consider wearing a medical ID bracelet or necklace that indicates you have Type 2 Diabetes.\n",
       "\n",
       "**Crucial Reminder:**\n",
       "\n",
       "*   **Consult Your Doctor:** Before starting any new exercise program, it is essential to consult with your doctor. They can assess your overall health, evaluate any potential risks, and provide personalized recommendations based on your individual needs and condition. They can also advise you on how to adjust your medication based on your activity level.\n",
       "\n",
       "I know this is a lot of information, Jane, but I want you to feel empowered and safe as you begin your exercise journey. Which of these options feels most appealing or accessible to you to start with? Perhaps we can explore that in more detail.\n"
      ],
      "text/plain": [
       "<IPython.core.display.Markdown object>"
      ]
     },
     "metadata": {},
     "output_type": "display_data"
    },
    {
     "name": "stdout",
     "output_type": "stream",
     "text": [
      "\n",
      "Q: Can you suggest some low-glycemic breakfast options?\n"
     ]
    },
    {
     "data": {
      "text/markdown": [
       "Okay, Jane, let's talk about some delicious and diabetes-friendly breakfast options that will help you manage your blood sugar levels and support your weight loss goals. The key is to focus on foods that are low on the Glycemic Index (GI) and Glycemic Load (GL), meaning they release glucose into your bloodstream slowly and steadily. Here are some ideas:\n",
       "\n",
       "**1. Oatmeal (Steel-Cut or Rolled Oats):**\n",
       "\n",
       "*   **Why it's good:** Oatmeal is a whole grain that's high in fiber, which helps slow down glucose absorption. Steel-cut oats have a slightly lower GI than rolled oats.\n",
       "*   **Preparation:** Cook with water or unsweetened almond milk. Avoid instant oatmeal, as it's often highly processed and has a higher GI.\n",
       "*   **Toppings:**\n",
       "    *   **Berries:** Add a handful of blueberries, raspberries, or strawberries for antioxidants and fiber.\n",
       "    *   **Nuts and Seeds:** A sprinkle of almonds, walnuts, flaxseeds, or chia seeds adds healthy fats and protein. Remember, NO PEANUTS due to your allergy!\n",
       "    *   **Cinnamon:** Cinnamon can help improve insulin sensitivity.\n",
       "    *   **Unsweetened Apple Sauce:** A small amount can add natural sweetness without spiking your blood sugar.\n",
       "    *   **A dollop of plain Greek yogurt:** Adds protein and creaminess.\n",
       "\n",
       "**2. Greek Yogurt (Plain, Unsweetened):**\n",
       "\n",
       "*   **Why it's good:** Greek yogurt is high in protein, which helps you feel full and satisfied. Choose plain, unsweetened varieties to avoid added sugars.\n",
       "*   **Toppings:** Similar to oatmeal, you can add berries, nuts (avoiding peanuts!), seeds, and a sprinkle of cinnamon. You could also add a small amount of Stevia or erythritol if you need some added sweetness.\n",
       "\n",
       "**3. Eggs:**\n",
       "\n",
       "*   **Why they're good:** Eggs are a great source of protein and healthy fats, which can help stabilize blood sugar levels.\n",
       "*   **Preparation:** Scrambled, poached, hard-boiled, or as an omelet.\n",
       "*   **Additions:**\n",
       "    *   **Vegetables:** Add spinach, mushrooms, onions, peppers, or tomatoes to your omelet or scrambled eggs.\n",
       "    *   **Avocado:** A few slices of avocado add healthy fats and fiber.\n",
       "    *   **Cheese:** A small amount of low-fat cheese.\n",
       "\n",
       "**4. Whole-Grain Toast (Peanut-Free Nut Butter Alternative):**\n",
       "\n",
       "*   **Why it's good:** Whole-grain bread has more fiber than white bread, which helps slow down glucose absorption.\n",
       "*   **Toppings:**\n",
       "    *   **Avocado:** Mashed avocado with a sprinkle of salt and pepper.\n",
       "    *   **Almond Butter or Sunflower Seed Butter:** A great alternative to peanut butter, providing healthy fats and protein.\n",
       "    *   **Smoked Salmon:** A good source of protein and omega-3 fatty acids.\n",
       "    *   **A poached or sliced hard-boiled egg:** For added protein.\n",
       "    *   **Ricotta Cheese with Berries:** Provides protein and calcium.\n",
       "\n",
       "**5. Smoothie (Carefully Crafted):**\n",
       "\n",
       "*   **Why it can be good:** Smoothies can be a quick and easy way to get a nutrient-packed breakfast, but it's important to make them correctly to avoid a blood sugar spike.\n",
       "*   **Base:** Unsweetened almond milk or water.\n",
       "*   **Protein:** Add a scoop of unsweetened protein powder (whey, soy, or plant-based), Greek yogurt, or chia seeds.\n",
       "*   **Healthy Fats:** Add a tablespoon of almond butter (peanut-free!) or flaxseeds.\n",
       "*   **Low-Glycemic Fruits:** Berries (blueberries, raspberries, strawberries) are a good choice. Avoid high-sugar fruits like bananas or mangoes in large quantities.\n",
       "*   **Vegetables:** Add spinach or kale for extra nutrients without significantly impacting blood sugar.\n",
       "*   **Sweeteners:** Avoid sugary sweeteners like honey or maple syrup. Use a small amount of Stevia or erythritol if needed.\n",
       "\n",
       "**Example Low-Glycemic Breakfast Combinations:**\n",
       "\n",
       "*   **Oatmeal:** Steel-cut oats with ½ cup blueberries, 1 tbsp chopped almonds, and a sprinkle of cinnamon.\n",
       "*   **Greek Yogurt:** Plain Greek yogurt with ½ cup raspberries, 1 tbsp chia seeds, and a dash of Stevia.\n",
       "*   **Egg Omelet:** Two-egg omelet with spinach, mushrooms, and a small amount of low-fat cheese.\n",
       "*   **Whole-Grain Toast:** Whole-grain toast with mashed avocado and a sliced hard-boiled egg.\n",
       "*   **Peanut-Free Smoothie:** Unsweetened almond milk, a scoop of whey protein, ½ cup spinach, ½ cup blueberries, 1 tbsp almond butter, and a dash of cinnamon.\n",
       "\n",
       "**General Tips for a Diabetes-Friendly Breakfast:**\n",
       "\n",
       "*   **Prioritize Protein and Fiber:** These nutrients help slow down glucose absorption and keep you feeling full.\n",
       "*   **Limit Added Sugars:** Avoid sugary cereals, pastries, and sweetened beverages.\n",
       "*   **Watch Portion Sizes:** Even healthy foods can raise your blood sugar if you eat too much of them.\n",
       "*   **Read Labels Carefully:** Pay attention to the carbohydrate and sugar content of packaged foods.\n",
       "*   **Test Your Blood Sugar:** Check your blood sugar levels before and after breakfast to see how different foods affect you.\n",
       "\n",
       "**Important Reminder:**\n",
       "\n",
       "*   **Individual Needs:** Everyone responds differently to different foods. It's important to experiment and find what works best for you. Keeping a food diary and monitoring your blood sugar levels can be helpful.\n",
       "*   **Consult a Dietitian:** A registered dietitian can help you create a personalized meal plan that meets your individual needs and preferences, taking into account your diabetes, peanut allergy, and weight loss goals.\n",
       "\n",
       "Which of these breakfast ideas sounds most appealing to you, Jane? We can discuss it further and customize it based on your preferences.\n"
      ],
      "text/plain": [
       "<IPython.core.display.Markdown object>"
      ]
     },
     "metadata": {},
     "output_type": "display_data"
    },
    {
     "name": "stdout",
     "output_type": "stream",
     "text": [
      "\n",
      "Q: How often should I check my blood sugar?\n"
     ]
    },
    {
     "data": {
      "text/markdown": [
       "Okay, Jane, that's a very important question! The frequency of blood sugar monitoring for people with Type 2 Diabetes varies depending on several factors, including:\n",
       "\n",
       "*   **The type of diabetes medication you are taking:** Some medications, like insulin and sulfonylureas, carry a higher risk of hypoglycemia (low blood sugar) and require more frequent monitoring.\n",
       "*   **How well your diabetes is controlled:** If your blood sugar levels are consistently within your target range, you may not need to check as often.\n",
       "*   **Changes in your routine:** If you make changes to your diet, exercise routine, or medication, you may need to monitor your blood sugar more frequently to see how these changes affect you.\n",
       "*   **Your individual needs and goals:** Your doctor will help you determine the best monitoring schedule based on your individual circumstances.\n",
       "\n",
       "**General Guidelines:**\n",
       "\n",
       "Here are some general guidelines for blood sugar monitoring in people with Type 2 Diabetes:\n",
       "\n",
       "*   **If you are taking insulin:** You will likely need to check your blood sugar several times a day, typically before meals and at bedtime. Your doctor may also recommend checking 2 hours after meals. This is because insulin can significantly impact your blood sugar levels, and frequent monitoring is necessary to adjust your insulin dosage accordingly.\n",
       "*   **If you are taking sulfonylureas (e.g., glipizide, glyburide, glimepiride):** These medications can also cause hypoglycemia, so you may need to check your blood sugar once or twice a day, typically before breakfast and/or before dinner. Your doctor may also recommend checking at other times, such as before exercise or if you experience symptoms of hypoglycemia.\n",
       "*   **If you are not taking insulin or sulfonylureas:** You may not need to check your blood sugar as often. Some doctors recommend checking once a day, either in the morning before breakfast (fasting blood sugar) or 2 hours after a meal. Other doctors may recommend checking a few times a week.\n",
       "*   **If you are newly diagnosed with diabetes or if your diabetes is not well-controlled:** You may need to check your blood sugar more frequently until your levels are stable.\n",
       "\n",
       "**Specific Situations That May Require More Frequent Monitoring:**\n",
       "\n",
       "*   **When you are sick:** Illness can affect your blood sugar levels. Check your blood sugar more frequently when you are sick, even if you don't usually check that often.\n",
       "*   **When you are exercising:** Exercise can lower your blood sugar levels. Check your blood sugar before, during (if exercising for longer than 30 minutes), and after exercise to see how your body responds.\n",
       "*   **When you are traveling:** Changes in your routine and time zone can affect your blood sugar levels. Check your blood sugar more frequently when you are traveling.\n",
       "*   **When you are pregnant:** If you have gestational diabetes (diabetes during pregnancy) or pre-existing Type 2 Diabetes, you will need to monitor your blood sugar very closely.\n",
       "\n",
       "**Tools for Monitoring:**\n",
       "\n",
       "*   **Blood Glucose Meter (Glucometer):** This is the most common tool for monitoring blood sugar. It requires a small blood sample, typically obtained by pricking your finger with a lancet.\n",
       "*   **Continuous Glucose Monitor (CGM):** A CGM is a device that continuously monitors your blood sugar levels throughout the day and night. It involves inserting a small sensor under your skin that measures glucose levels in your interstitial fluid. CGMs can provide valuable insights into how your blood sugar levels fluctuate throughout the day and can help you identify patterns and trends. They can also alert you if your blood sugar levels are too high or too low.\n",
       "\n",
       "**Important Reminders:**\n",
       "\n",
       "*   **Talk to Your Doctor:** *The most important thing is to talk to your doctor about how often you should check your blood sugar.* They can provide personalized recommendations based on your individual needs and circumstances.\n",
       "*   **Keep a Record:** Keep a record of your blood sugar readings and share them with your doctor. This will help them assess how well your diabetes is controlled and make any necessary adjustments to your treatment plan.\n",
       "*   **Learn the Symptoms of Hypoglycemia and Hyperglycemia:** It's important to know the symptoms of both low and high blood sugar so you can take appropriate action if needed.\n",
       "*   **Accuracy of Meter:** Ensure the meter and strips have not expired and are stored properly.\n",
       "\n",
       "In your case, Jane, given that you have Type 2 Diabetes and are aiming for weight loss through dietary and exercise changes, it would be best to discuss a monitoring schedule with your doctor. If you start taking new medications or significantly alter your diet/exercise, temporary increases in monitoring frequency might be required.\n",
       "\n",
       "What questions do you have about blood sugar monitoring or anything else we've discussed?\n"
      ],
      "text/plain": [
       "<IPython.core.display.Markdown object>"
      ]
     },
     "metadata": {},
     "output_type": "display_data"
    },
    {
     "name": "stdout",
     "output_type": "stream",
     "text": [
      "\n",
      "4. PROCESSING HEALTH REPORT\n",
      "Extracted report text:\n",
      "\n",
      "MEDICAL REPORT\n",
      "Patient: Jane Smith\n",
      "Date: April 10, 2025\n",
      "Lab Results:\n",
      "- Fasting Blood Glucose: 142 mg/dL (High)\n",
      "- HbA1c: 7.3% (High)\n",
      "- Total Cholesterol: 210 mg/dL (Borderline High)\n",
      "- Blood Pressure: 138/88 mmHg (Elevated)\n",
      "\n",
      "Assessment: Patient has Type 2 Diabetes with suboptimal glycemic control.\n",
      "Recommendation: Dietary modification, increased physical activity, and medication adjustment.\n",
      "\n",
      "\n",
      "5. ANALYZING HEALTH REPORT\n"
     ]
    },
    {
     "data": {
      "text/markdown": [
       "Okay, Jane, let's break down this health report and discuss what it means for you and our plan. It's important to note that I am an AI and cannot provide medical diagnoses or treatment advice. This analysis is for informational purposes only and should be discussed with your doctor for appropriate medical management.\n",
       "\n",
       "Here's an analysis of your health report:\n",
       "\n",
       "**Key Findings:**\n",
       "\n",
       "*   **Fasting Blood Glucose: 142 mg/dL (High):** This indicates that your blood sugar levels are elevated even after an overnight fast. A normal fasting blood glucose level is typically below 100 mg/dL. This result suggests that your diabetes is not well-controlled.\n",
       "*   **HbA1c: 7.3% (High):** HbA1c is a measure of your average blood sugar levels over the past 2-3 months. A normal HbA1c level for people without diabetes is below 5.7%. The American Diabetes Association generally recommends an HbA1c target of less than 7% for people with diabetes. Your result of 7.3% indicates that your blood sugar levels have been consistently elevated over the past few months, and again, your diabetes management requires adjustment.\n",
       "*   **Total Cholesterol: 210 mg/dL (Borderline High):** A normal total cholesterol level is typically below 200 mg/dL. Elevated cholesterol levels can increase your risk of heart disease, which is already a concern for people with diabetes.\n",
       "*   **Blood Pressure: 138/88 mmHg (Elevated):** This indicates that your blood pressure is elevated. A normal blood pressure is typically below 120/80 mmHg. Elevated blood pressure, also known as hypertension, can increase your risk of heart disease, stroke, and kidney disease. The current guideline defines Stage 1 Hypertension as 130-139/80-89 mmHg.\n",
       "\n",
       "**Overall Assessment:**\n",
       "\n",
       "The report confirms that you have Type 2 Diabetes with suboptimal glycemic control. This means that your blood sugar levels are consistently above the target range. You also have borderline high cholesterol and elevated blood pressure, which are additional risk factors for heart disease.\n",
       "\n",
       "**Recommendations from the Report:**\n",
       "\n",
       "The report recommends dietary modification, increased physical activity, and medication adjustment. These are all important components of diabetes management, and we've already begun to address the first two in our discussions.\n",
       "\n",
       "**My Recommendations Based on the Report and Our Previous Discussions:**\n",
       "\n",
       "1.  **Schedule an Urgent Appointment with Your Doctor:** This report underscores the *urgent need* to consult with your doctor as soon as possible. Your doctor will need to review these results, conduct a physical exam, and make appropriate adjustments to your medication regimen. *Do not make any changes to your medication without consulting your doctor.*\n",
       "2.  **Dietary Modifications (Review and Refine):**\n",
       "    *   **Re-emphasize low-glycemic eating:** Let's revisit our discussion about low-glycemic breakfast options and expand that to lunch and dinner. Focus on non-starchy vegetables, lean protein, and healthy fats.\n",
       "    *   **Consider Carbohydrate Counting:** Work with a registered dietitian to learn how to count carbohydrates and adjust your insulin dosage (if applicable) based on your carbohydrate intake.\n",
       "    *   **Limit Saturated and Trans Fats:** Given your elevated cholesterol levels, it's important to limit your intake of saturated and trans fats, which can raise LDL (\"bad\") cholesterol.\n",
       "    *   **Increase Fiber Intake:** Fiber can help lower cholesterol and improve blood sugar control.\n",
       "    *   **Reduce Sodium Intake:** Given your elevated blood pressure, it's important to reduce your sodium intake. Avoid processed foods and limit your use of salt when cooking.\n",
       "3.  **Increased Physical Activity (Reinforce):**\n",
       "    *   **Gradual Progression:** Continue to gradually increase the intensity and duration of your workouts, as we discussed.\n",
       "    *   **Variety:** Incorporate a variety of activities to stay motivated and prevent boredom.\n",
       "    *   **Consistency:** Aim for at least 150 minutes of moderate-intensity aerobic activity per week, as well as strength training exercises at least two days per week.\n",
       "    *   **Blood Sugar Monitoring:** Closely monitor your blood sugar levels before, during, and after exercise to see how your body responds and prevent hypoglycemia.\n",
       "4.  **Medication Adjustment (Doctor's Guidance):**\n",
       "    *   **Discuss Medication Options with Your Doctor:** Your doctor may need to adjust your current medications or add new medications to help you achieve better blood sugar control. They may also consider prescribing medications to lower your cholesterol and blood pressure.\n",
       "    *   **Adhere to Your Medication Regimen:** Take your medications exactly as prescribed by your doctor.\n",
       "5.  **Weight Loss (Continue to Prioritize):**\n",
       "    *   **Sustainable Approach:** Focus on making sustainable lifestyle changes that you can maintain over the long term.\n",
       "    *   **Calorie Deficit:** Create a calorie deficit through a combination of dietary modifications and increased physical activity.\n",
       "6.  **Stress Management (Implement):**\n",
       "    *   **Stress-Reducing Activities:** Incorporate stress-reducing activities into your daily routine, such as yoga, meditation, or deep breathing exercises.\n",
       "7.  **Regular Monitoring:**\n",
       "    *   **Blood Sugar Monitoring:** Continue to monitor your blood sugar levels as recommended by your doctor.\n",
       "    *   **Regular Check-ups:** Schedule regular check-ups with your doctor to monitor your progress and make any necessary adjustments to your treatment plan.\n",
       "8.  **Consult a Specialist:**\n",
       "    *   **Registered Dietitian:** A registered dietitian can help you create a personalized meal plan that meets your individual needs and preferences.\n",
       "    *   **Certified Diabetes Educator (CDE):** A CDE can provide you with education and support to help you manage your diabetes effectively.\n",
       "\n",
       "**Key Takeaways:**\n",
       "\n",
       "This report highlights the importance of taking a proactive approach to managing your diabetes and overall health. It's crucial to work closely with your doctor and other healthcare professionals to develop a comprehensive treatment plan that addresses all of your risk factors. The lifestyle changes we've been discussing are a good foundation, but the report clearly indicates the need for medical intervention and likely medication adjustments.\n",
       "\n",
       "Again, please schedule an appointment with your doctor as soon as possible to discuss these results and develop a plan of action.\n",
       "\n",
       "What specific questions do you have about this report or the recommendations I've provided?\n"
      ],
      "text/plain": [
       "<IPython.core.display.Markdown object>"
      ]
     },
     "metadata": {},
     "output_type": "display_data"
    },
    {
     "name": "stdout",
     "output_type": "stream",
     "text": [
      "\n",
      "6. EVALUATING PLAN QUALITY\n"
     ]
    },
    {
     "data": {
      "text/markdown": [
       "Here's an evaluation of the provided health plan, broken down by the requested categories:\n",
       "\n",
       "**Overall Score: 4.3/5**\n",
       "\n",
       "Here's the breakdown:\n",
       "\n",
       "*   **Medical Accuracy: 5/5**\n",
       "\n",
       "    *   **Strengths:** The plan reflects current medical guidelines for managing Type 2 Diabetes. It emphasizes key principles like:\n",
       "        *   Low glycemic index foods\n",
       "        *   Balanced macronutrients\n",
       "        *   Regular blood sugar monitoring\n",
       "        *   Importance of exercise (both aerobic and resistance)\n",
       "        *   Foot care for diabetics\n",
       "        *   Stress management\n",
       "        *   Medication adherence\n",
       "    *   **Areas for Improvement:** None - it gets key facts and standards right.\n",
       "\n",
       "*   **Personalization: 4/5**\n",
       "\n",
       "    *   **Strengths:**\n",
       "        *   The plan considers the person is a 42-year-old female.\n",
       "        *   It acknowledges the Type 2 Diabetes diagnosis.\n",
       "        *   It takes into account the peanut allergy.\n",
       "        *   It notes a previous sedentary lifestyle and proposes a gradual increase in activity.\n",
       "        *   Mentions need for consultation with dietician and doctor.\n",
       "    *   **Areas for Improvement:**\n",
       "        *   The calorie goal (1400-1600) is a reasonable starting point but should *absolutely* be individualized after consultation with a dietitian. There's no mention of her current weight, height, or activity level beyond \"sedentary,\" which are all important factors.\n",
       "        *   The exercise plan, while good in principle, lacks personalization.  There's no mention of existing injuries, limitations, or preferences.\n",
       "        *   It would be better if a more specific patient history was mentioned for even better personalization.\n",
       "\n",
       "*   **Actionability: 4.5/5**\n",
       "\n",
       "    *   **Strengths:**\n",
       "        *   The meal plans are specific and provide concrete examples of what to eat for each meal and snack.\n",
       "        *   The exercise routine is broken down into a weekly schedule with clear instructions.\n",
       "        *   Health tips are practical and easily understandable.\n",
       "        *   The plan emphasizes the importance of monitoring blood sugar.\n",
       "    *   **Areas for Improvement:**\n",
       "        *   While the meal plans are specific, they might be overwhelming for someone just starting.  A simpler \"swap\" approach (e.g., \"Instead of white bread, choose whole-wheat bread\") might be more sustainable initially.\n",
       "        *   Providing a list of resources (e.g., reputable websites, diabetes education programs) would increase actionability.\n",
       "        *   Specify examples of what kind of exercise would not be good for the patient.\n",
       "\n",
       "*   **Overall Quality: 4.3/5**\n",
       "\n",
       "    *   **Strengths:** The plan is well-organized, comprehensive, and medically sound. It covers key aspects of diabetes management (diet, exercise, lifestyle). It provides a good starting point for someone newly diagnosed or looking to improve their diabetes control.\n",
       "    *   **Areas for Improvement:** The biggest opportunity for improvement is to emphasize the *crucial* need for professional guidance (doctor, dietitian, certified diabetes educator) to tailor the plan to the individual. The plan does mention this, but it should be highlighted more strongly. It also needs better details on possible problems that can occur and ways to avoid them.\n"
      ],
      "text/plain": [
       "<IPython.core.display.Markdown object>"
      ]
     },
     "metadata": {},
     "output_type": "display_data"
    },
    {
     "name": "stdout",
     "output_type": "stream",
     "text": [
      "\n",
      "==================================================\n",
      "HEALTHGENIE DEMO COMPLETE\n",
      "==================================================\n"
     ]
    }
   ],
   "source": [
    "# ========== DEMONSTRATION ========== #\n",
    "print(\"=\" * 50)\n",
    "print(\"HEALTHGENIE AI HEALTH COMPANION DEMO\")\n",
    "print(\"=\" * 50)\n",
    "\n",
    "# 1. Initialize agent with patient data\n",
    "print(\"\\n1. INITIALIZING AGENT WITH PATIENT DATA\")\n",
    "agent = HealthGenieAgent()\n",
    "agent.initialize_patient(sample_patients[1])  # Using diabetic patient\n",
    "print(\"Agent initialized!\")\n",
    "\n",
    "# 2. Generate health plan using RAG\n",
    "print(\"\\n2. GENERATING PERSONALIZED HEALTH PLAN\")\n",
    "health_plan = agent.generate_plan()\n",
    "display(Markdown(health_plan))\n",
    "\n",
    "# 3. Interactive Q&A\n",
    "print(\"\\n3. INTERACTIVE Q&A WITH HEALTHGENIE\")\n",
    "questions = [\n",
    "    \"What exercises are safe for someone with my condition?\",\n",
    "    \"Can you suggest some low-glycemic breakfast options?\",\n",
    "    \"How often should I check my blood sugar?\"\n",
    "]\n",
    "\n",
    "for question in questions:\n",
    "    print(f\"\\nQ: {question}\")\n",
    "    answer = agent.ask(question)\n",
    "    display(Markdown(answer))\n",
    "\n",
    "# 4. Process health report\n",
    "print(\"\\n4. PROCESSING HEALTH REPORT\")\n",
    "report_text = process_health_report(\"sample_report.txt\")\n",
    "print(\"Extracted report text:\")\n",
    "print(report_text)\n",
    "\n",
    "# 5. Analyze report with Gemini\n",
    "print(\"\\n5. ANALYZING HEALTH REPORT\")\n",
    "report_analysis = agent.ask(f\"Analyze this health report and provide recommendations:\\n{report_text}\")\n",
    "display(Markdown(report_analysis))\n",
    "\n",
    "# 6. Evaluation\n",
    "print(\"\\n6. EVALUATING PLAN QUALITY\")\n",
    "evaluation_prompt = f\"\"\"\n",
    "Evaluate the quality of this health plan for a 42-year-old female with Type 2 Diabetes:\n",
    "{health_plan}\n",
    "\n",
    "Score from 1-5 on:\n",
    "- Medical accuracy\n",
    "- Personalization\n",
    "- Actionability\n",
    "- Overall quality\n",
    "\"\"\"\n",
    "evaluation = genai.GenerativeModel(MODEL_NAME).generate_content(evaluation_prompt)\n",
    "display(Markdown(evaluation.text))\n",
    "\n",
    "print(\"\\n\" + \"=\" * 50)\n",
    "print(\"HEALTHGENIE DEMO COMPLETE\")\n",
    "print(\"=\" * 50)\n"
   ]
  },
  {
   "cell_type": "markdown",
   "id": "8d7bf757",
   "metadata": {
    "papermill": {
     "duration": 0.006126,
     "end_time": "2025-04-13T17:45:14.897083",
     "exception": false,
     "start_time": "2025-04-13T17:45:14.890957",
     "status": "completed"
    },
    "tags": []
   },
   "source": [
    "**Generative AI Capabilities Summary**\n",
    "HealthGenie demonstrates four key generative AI capabilities:\n",
    "\n",
    "**1.Document Understanding**\n",
    "\n",
    "Extracts and interprets information from medical reports.\n",
    "\n",
    "Processes unstructured text to identify key health metrics.\n",
    "\n",
    "Enables personalization based on medical documentation.\n",
    "\n",
    "**2.Retrieval-Augmented Generation (RAG)**\n",
    "\n",
    "Grounds health recommendations in verified medical guidelines.\n",
    "\n",
    "Uses semantic search to find relevant health information.\n",
    "\n",
    "Ensures responses align with established medical practices.\n",
    "\n",
    "**3.Structured Output**\n",
    "\n",
    "Generates organized health plans with clear sections.\n",
    "\n",
    "Provides specific, actionable recommendations.\n",
    "\n",
    "Formats information for optimal readability and usability.\n",
    "\n",
    "**4.Agents**\n",
    "\n",
    "Maintains conversation context across multiple interactions.\n",
    "\n",
    "Personalizes responses based on user profile.\n",
    "\n",
    "Enables natural, multi-turn conversations about health topics."
   ]
  },
  {
   "cell_type": "markdown",
   "id": "1888012b",
   "metadata": {
    "papermill": {
     "duration": 0.005988,
     "end_time": "2025-04-13T17:45:14.909547",
     "exception": false,
     "start_time": "2025-04-13T17:45:14.903559",
     "status": "completed"
    },
    "tags": []
   },
   "source": [
    "**Real-World Applications**\n",
    "HealthGenie demonstrates how generative AI can transform healthcare by:\n",
    "\n",
    "**1.Democratizing Access:** Providing personalized health guidance at scale, making expert-level advice more accessible.\n",
    "\n",
    "**2.Supporting Healthcare Providers:** Assisting doctors and nutritionists with personalized plan generation, freeing their time for complex cases.\n",
    "\n",
    "**3.Improving Health Outcomes:** Increasing adherence through personalized recommendations that account for individual conditions and preferences.\n",
    "\n",
    "**4.Empowering Self-Management:** Helping patients with chronic conditions better understand and manage their health with condition-specific guidance."
   ]
  },
  {
   "cell_type": "markdown",
   "id": "e39504bc",
   "metadata": {
    "papermill": {
     "duration": 0.006206,
     "end_time": "2025-04-13T17:45:14.922070",
     "exception": false,
     "start_time": "2025-04-13T17:45:14.915864",
     "status": "completed"
    },
    "tags": []
   },
   "source": [
    "**Future Enhancements**\n",
    "HealthGenie could be extended with:\n",
    "\n",
    "**1.Multimodal Inputs:** Processing food images, exercise videos, and wearable device data.\n",
    "\n",
    "**2.Function Calling:** Integrating with fitness trackers, nutrition databases, and medication reminder systems.\n",
    "\n",
    "**3.Expanded RAG:** Incorporating larger medical knowledge bases and real-time medical research.\n",
    "\n",
    "**4.Personalized Learning:** Adapting recommendations based on user feedback and progress tracking."
   ]
  },
  {
   "cell_type": "markdown",
   "id": "2cf3619b",
   "metadata": {
    "papermill": {
     "duration": 0.006044,
     "end_time": "2025-04-13T17:45:14.934927",
     "exception": false,
     "start_time": "2025-04-13T17:45:14.928883",
     "status": "completed"
    },
    "tags": []
   },
   "source": [
    "**Conclusion**\n",
    "HealthGenie demonstrates the transformative potential of generative AI in healthcare. By combining document understanding, RAG, structured output, and agent capabilities, we've created a system that provides personalized, scientifically-grounded health guidance."
   ]
  },
  {
   "cell_type": "markdown",
   "id": "c5368652",
   "metadata": {
    "papermill": {
     "duration": 0.00621,
     "end_time": "2025-04-13T17:45:14.947564",
     "exception": false,
     "start_time": "2025-04-13T17:45:14.941354",
     "status": "completed"
    },
    "tags": []
   },
   "source": [
    "@misc{gen-ai-intensive-course-capstone-2025q1,\n",
    "    author = {Addison Howard and Brenda Flynn and Kinjal Parekh and Myles O'Neill and Nate and Polong Lin},\n",
    "    title = {Gen AI Intensive Course Capstone 2025Q1},\n",
    "    year = {2025},\n",
    "    howpublished = {\\url{https://kaggle.com/competitions/gen-ai-intensive-course-capstone-2025q1}},\n",
    "    note = {Kaggle}\n",
    "}"
   ]
  }
 ],
 "metadata": {
  "kaggle": {
   "accelerator": "none",
   "dataSources": [
    {
     "sourceId": 97258,
     "sourceType": "competition"
    }
   ],
   "dockerImageVersionId": 31012,
   "isGpuEnabled": false,
   "isInternetEnabled": true,
   "language": "python",
   "sourceType": "notebook"
  },
  "kernelspec": {
   "display_name": "Python 3",
   "language": "python",
   "name": "python3"
  },
  "language_info": {
   "codemirror_mode": {
    "name": "ipython",
    "version": 3
   },
   "file_extension": ".py",
   "mimetype": "text/x-python",
   "name": "python",
   "nbconvert_exporter": "python",
   "pygments_lexer": "ipython3",
   "version": "3.11.11"
  },
  "papermill": {
   "default_parameters": {},
   "duration": 71.179915,
   "end_time": "2025-04-13T17:45:18.150728",
   "environment_variables": {},
   "exception": null,
   "input_path": "__notebook__.ipynb",
   "output_path": "__notebook__.ipynb",
   "parameters": {},
   "start_time": "2025-04-13T17:44:06.970813",
   "version": "2.6.0"
  }
 },
 "nbformat": 4,
 "nbformat_minor": 5
}

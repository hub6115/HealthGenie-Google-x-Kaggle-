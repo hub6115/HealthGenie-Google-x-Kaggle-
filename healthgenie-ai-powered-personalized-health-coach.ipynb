{
 "cells": [
  {
   "cell_type": "markdown",
   "id": "e67c5ac4",
   "metadata": {
    "papermill": {
     "duration": 0.00226,
     "end_time": "2025-04-11T14:16:16.972878",
     "exception": false,
     "start_time": "2025-04-11T14:16:16.970618",
     "status": "completed"
    },
    "tags": []
   },
   "source": [
    "HealthGenie – AI-Powered Personalized Health Coach\n"
   ]
  },
  {
   "cell_type": "markdown",
   "id": "5f1fb0d5",
   "metadata": {
    "papermill": {
     "duration": 0.001314,
     "end_time": "2025-04-11T14:16:16.976021",
     "exception": false,
     "start_time": "2025-04-11T14:16:16.974707",
     "status": "completed"
    },
    "tags": []
   },
   "source": [
    "**Problem Statement:**\n",
    "People often struggle with achieving fitness goals or managing health conditions due to lack of personalized, actionable advice. Existing tools provide generic recommendations that don’t account for individual needs, preferences, or medical conditions.\n",
    "\n",
    "**Solution:**\n",
    "HealthGenie is a generative AI-powered companion that provides personalized meal plans, workout routines, and health tips based on user goals (e.g., muscle gain, weight loss) and medical conditions (e.g., diabetes, hypertension). It leverages generative AI capabilities like structured output, retrieval-augmented generation (RAG), and agents to deliver adaptive,"
   ]
  },
  {
   "cell_type": "code",
   "execution_count": 1,
   "id": "f5af1f86",
   "metadata": {
    "_cell_guid": "b1076dfc-b9ad-4769-8c92-a6c4dae69d19",
    "_uuid": "8f2839f25d086af736a60e9eeb907d3b93b6e0e5",
    "execution": {
     "iopub.execute_input": "2025-04-11T14:16:16.981076Z",
     "iopub.status.busy": "2025-04-11T14:16:16.980754Z",
     "iopub.status.idle": "2025-04-11T14:16:18.974421Z",
     "shell.execute_reply": "2025-04-11T14:16:18.973461Z"
    },
    "papermill": {
     "duration": 1.998427,
     "end_time": "2025-04-11T14:16:18.976546",
     "exception": false,
     "start_time": "2025-04-11T14:16:16.978119",
     "status": "completed"
    },
    "tags": []
   },
   "outputs": [],
   "source": [
    "# This Python 3 environment comes with many helpful analytics libraries installed\n",
    "# It is defined by the kaggle/python Docker image: https://github.com/kaggle/docker-python\n",
    "# For example, here's several helpful packages to load\n",
    "\n",
    "import numpy as np # linear algebra\n",
    "import pandas as pd # data processing, CSV file I/O (e.g. pd.read_csv)\n",
    "\n",
    "# Input data files are available in the read-only \"../input/\" directory\n",
    "# For example, running this (by clicking run or pressing Shift+Enter) will list all files under the input directory\n",
    "\n",
    "import os\n",
    "for dirname, _, filenames in os.walk('/kaggle/input'):\n",
    "    for filename in filenames:\n",
    "        print(os.path.join(dirname, filename))\n",
    "\n",
    "# You can write up to 20GB to the current directory (/kaggle/working/) that gets preserved as output when you create a version using \"Save & Run All\" \n",
    "# You can also write temporary files to /kaggle/temp/, but they won't be saved outside of the current session"
   ]
  },
  {
   "cell_type": "code",
   "execution_count": 2,
   "id": "bfe64959",
   "metadata": {
    "execution": {
     "iopub.execute_input": "2025-04-11T14:16:18.981328Z",
     "iopub.status.busy": "2025-04-11T14:16:18.980890Z",
     "iopub.status.idle": "2025-04-11T14:16:19.204381Z",
     "shell.execute_reply": "2025-04-11T14:16:19.203407Z"
    },
    "papermill": {
     "duration": 0.227864,
     "end_time": "2025-04-11T14:16:19.206290",
     "exception": false,
     "start_time": "2025-04-11T14:16:18.978426",
     "status": "completed"
    },
    "tags": []
   },
   "outputs": [],
   "source": [
    "from kaggle_secrets import UserSecretsClient\n",
    "user_secrets = UserSecretsClient()\n",
    "secret_value_0 = user_secrets.get_secret(\"GOOGLE_API_KEY\")"
   ]
  }
 ],
 "metadata": {
  "kaggle": {
   "accelerator": "none",
   "dataSources": [
    {
     "sourceId": 97258,
     "sourceType": "competition"
    }
   ],
   "dockerImageVersionId": 31012,
   "isGpuEnabled": false,
   "isInternetEnabled": true,
   "language": "python",
   "sourceType": "notebook"
  },
  "kernelspec": {
   "display_name": "Python 3",
   "language": "python",
   "name": "python3"
  },
  "language_info": {
   "codemirror_mode": {
    "name": "ipython",
    "version": 3
   },
   "file_extension": ".py",
   "mimetype": "text/x-python",
   "name": "python",
   "nbconvert_exporter": "python",
   "pygments_lexer": "ipython3",
   "version": "3.11.11"
  },
  "papermill": {
   "default_parameters": {},
   "duration": 7.59296,
   "end_time": "2025-04-11T14:16:19.728564",
   "environment_variables": {},
   "exception": null,
   "input_path": "__notebook__.ipynb",
   "output_path": "__notebook__.ipynb",
   "parameters": {},
   "start_time": "2025-04-11T14:16:12.135604",
   "version": "2.6.0"
  }
 },
 "nbformat": 4,
 "nbformat_minor": 5
}

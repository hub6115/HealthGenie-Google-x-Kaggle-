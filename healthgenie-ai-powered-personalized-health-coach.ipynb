{
 "cells": [
  {
   "cell_type": "markdown",
   "id": "e1dcb1c5",
   "metadata": {
    "papermill": {
     "duration": 0.002095,
     "end_time": "2025-04-11T14:07:51.428901",
     "exception": false,
     "start_time": "2025-04-11T14:07:51.426806",
     "status": "completed"
    },
    "tags": []
   },
   "source": [
    "HealthGenie – AI-Powered Personalized Health Coach\n"
   ]
  },
  {
   "cell_type": "code",
   "execution_count": 1,
   "id": "fa8815c4",
   "metadata": {
    "_cell_guid": "b1076dfc-b9ad-4769-8c92-a6c4dae69d19",
    "_uuid": "8f2839f25d086af736a60e9eeb907d3b93b6e0e5",
    "execution": {
     "iopub.execute_input": "2025-04-11T14:07:51.433506Z",
     "iopub.status.busy": "2025-04-11T14:07:51.433170Z",
     "iopub.status.idle": "2025-04-11T14:07:53.328021Z",
     "shell.execute_reply": "2025-04-11T14:07:53.327187Z"
    },
    "papermill": {
     "duration": 1.899021,
     "end_time": "2025-04-11T14:07:53.329738",
     "exception": false,
     "start_time": "2025-04-11T14:07:51.430717",
     "status": "completed"
    },
    "tags": []
   },
   "outputs": [],
   "source": [
    "# This Python 3 environment comes with many helpful analytics libraries installed\n",
    "# It is defined by the kaggle/python Docker image: https://github.com/kaggle/docker-python\n",
    "# For example, here's several helpful packages to load\n",
    "\n",
    "import numpy as np # linear algebra\n",
    "import pandas as pd # data processing, CSV file I/O (e.g. pd.read_csv)\n",
    "\n",
    "# Input data files are available in the read-only \"../input/\" directory\n",
    "# For example, running this (by clicking run or pressing Shift+Enter) will list all files under the input directory\n",
    "\n",
    "import os\n",
    "for dirname, _, filenames in os.walk('/kaggle/input'):\n",
    "    for filename in filenames:\n",
    "        print(os.path.join(dirname, filename))\n",
    "\n",
    "# You can write up to 20GB to the current directory (/kaggle/working/) that gets preserved as output when you create a version using \"Save & Run All\" \n",
    "# You can also write temporary files to /kaggle/temp/, but they won't be saved outside of the current session"
   ]
  },
  {
   "cell_type": "code",
   "execution_count": 2,
   "id": "869097d8",
   "metadata": {
    "execution": {
     "iopub.execute_input": "2025-04-11T14:07:53.334517Z",
     "iopub.status.busy": "2025-04-11T14:07:53.334044Z",
     "iopub.status.idle": "2025-04-11T14:07:53.530312Z",
     "shell.execute_reply": "2025-04-11T14:07:53.529427Z"
    },
    "papermill": {
     "duration": 0.20035,
     "end_time": "2025-04-11T14:07:53.531955",
     "exception": false,
     "start_time": "2025-04-11T14:07:53.331605",
     "status": "completed"
    },
    "tags": []
   },
   "outputs": [],
   "source": [
    "from kaggle_secrets import UserSecretsClient\n",
    "user_secrets = UserSecretsClient()\n",
    "secret_value_0 = user_secrets.get_secret(\"GOOGLE_API_KEY\")"
   ]
  }
 ],
 "metadata": {
  "kaggle": {
   "accelerator": "none",
   "dataSources": [
    {
     "sourceId": 97258,
     "sourceType": "competition"
    }
   ],
   "dockerImageVersionId": 31012,
   "isGpuEnabled": false,
   "isInternetEnabled": true,
   "language": "python",
   "sourceType": "notebook"
  },
  "kernelspec": {
   "display_name": "Python 3",
   "language": "python",
   "name": "python3"
  },
  "language_info": {
   "codemirror_mode": {
    "name": "ipython",
    "version": 3
   },
   "file_extension": ".py",
   "mimetype": "text/x-python",
   "name": "python",
   "nbconvert_exporter": "python",
   "pygments_lexer": "ipython3",
   "version": "3.11.11"
  },
  "papermill": {
   "default_parameters": {},
   "duration": 7.539792,
   "end_time": "2025-04-11T14:07:54.052904",
   "environment_variables": {},
   "exception": null,
   "input_path": "__notebook__.ipynb",
   "output_path": "__notebook__.ipynb",
   "parameters": {},
   "start_time": "2025-04-11T14:07:46.513112",
   "version": "2.6.0"
  }
 },
 "nbformat": 4,
 "nbformat_minor": 5
}
